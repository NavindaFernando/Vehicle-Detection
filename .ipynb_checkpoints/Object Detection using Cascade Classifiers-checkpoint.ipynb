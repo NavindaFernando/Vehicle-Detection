{
 "cells": [
  {
   "cell_type": "markdown",
   "id": "d7100ecd",
   "metadata": {},
   "source": [
    "### Reading frames from a (Video Source) file"
   ]
  },
  {
   "cell_type": "code",
   "execution_count": 4,
   "id": "f697975d",
   "metadata": {},
   "outputs": [],
   "source": [
    "import cv2 \n",
    "\n",
    "camara = cv2.VideoCapture('samples/bikes.mp4') # load a video file\n",
    "\n",
    "while(True):\n",
    "    \n",
    "    ret,img = camara.read() # read frame one by one / ret -> video availability\n",
    "    cv2.imshow('LIVE',img) # show image (video frames)\n",
    "    \n",
    "    key = cv2.waitKey(1) # waiting for a key to be pressed\n",
    "    \n",
    "    # if the pressed key is the esc key, the video will break (ascii value)\n",
    "    if key==27:\n",
    "        break\n",
    "        \n",
    "cv2.destroyAllWindows() # destroy window\n",
    "camara.release() # release video source"
   ]
  },
  {
   "cell_type": "markdown",
   "id": "943afba8",
   "metadata": {},
   "source": [
    "### Detecting moter bikes using cascade classifiers"
   ]
  },
  {
   "cell_type": "code",
   "execution_count": 5,
   "id": "22f8dbb5",
   "metadata": {},
   "outputs": [],
   "source": [
    "import cv2\n",
    "\n",
    "bikes_classifier = cv2.CascadeClassifier('cascades/two_wheeler.xml') # load a cascade classifier (bike detection classifier)\n",
    "\n",
    "camara = cv2.VideoCapture('samples/bikes.mp4') # load a video file\n",
    "\n",
    "while(True):\n",
    "    \n",
    "    ret,img = camara.read() # read frames one by one\n",
    "    \n",
    "    # blurs the image blurring is done to reduce noises in the image.\n",
    "    blur = cv2.blur(img,(3,3)) # then the detection is a little accurate\n",
    "    gray = cv2.cvtColor(blur,cv2.COLOR_BGR2GRAY) # convert gray images, color images are not important. because colors can change at any time\n",
    "    \n",
    "    bikes = bikes_classifier.detectMultiScale(gray) # detect to gray image (video frame)\n",
    "    \n",
    "    # goes into every object\n",
    "    for (x,y,w,h) in bikes:\n",
    "        \n",
    "        cv2.rectangle(img,(x,y),(x+w,y+h),(0,255,0),2) # drow a rectangle\n",
    "        cv2.putText(img,'Bike',(x,y-10),cv2.FONT_HERSHEY_SIMPLEX,0.5,(0,255,0),2) # a text is written on top of the rectangle\n",
    "        \n",
    "    cv2.imshow('LIVE',img) # show image (video frames)\n",
    "    key = cv2.waitKey(1) # waiting for a key to be pressed\n",
    "    \n",
    "    # if the pressed key is the esc key, the video will break (ascii value)\n",
    "    if key==27:\n",
    "        break\n",
    "        \n",
    "cv2.destroyAllWindows() # destroy window\n",
    "camara.release() # release video source"
   ]
  },
  {
   "cell_type": "markdown",
   "id": "ddd7ceba",
   "metadata": {},
   "source": [
    "### Counting the number of moter bikes passing yellow line"
   ]
  },
  {
   "cell_type": "code",
   "execution_count": 7,
   "id": "1205957d",
   "metadata": {},
   "outputs": [],
   "source": [
    "import cv2\n",
    "\n",
    "bikes_classifier = cv2.CascadeClassifier('cascades/two_wheeler.xml') # load a cascade classifier (bike detection classifier)\n",
    "\n",
    "camara = cv2.VideoCapture('samples/bikes.mp4') # load a video file\n",
    "\n",
    "count = 0 # bike count\n",
    "\n",
    "while(True):\n",
    "    \n",
    "    ret,img = camara.read() # read frames one by one\n",
    "    \n",
    "    height,width=img.shape[0:2] # get the dimensions in image\n",
    "\n",
    "    img[0:70,0:width] = [0,0,255] # create a red section (segment)\n",
    "    cv2.putText(img,'MOTER BIKE COUNT:',(10,50),cv2.FONT_HERSHEY_SIMPLEX,1.5,(255,255,255),2) # text is written in red section\n",
    "\n",
    "    # line(img,(starting point(x,y)),(end point(x,y)),(color),line thickness\n",
    "    cv2.line(img,(0,height-200),(width,height-200),(0,255,255),2) # draw a line\n",
    "        \n",
    "    # blurs the image blurring is done to reduce noises in the image.\n",
    "    blur = cv2.blur(img,(3,3)) # then the detection is a little accurate\n",
    "    gray = cv2.cvtColor(blur,cv2.COLOR_BGR2GRAY) # convert gray images\n",
    "    \n",
    "    bikes = bikes_classifier.detectMultiScale(gray) # detect to gray image (video frame)\n",
    "    \n",
    "    # goes into every object\n",
    "    for (x,y,w,h) in bikes:\n",
    "        \n",
    "        bikeCy = int(y+h/2) # the 'y' coordinate of the center of the bounding rectangle of the bike is y+h/2\n",
    "        linCy = height-200 # The coordinate of the line is height-200\n",
    "\n",
    "        # see if the bike crosses the line\n",
    "        if(bikeCy<linCy+6 and bikeCy>linCy-6):\n",
    "            \n",
    "            count=count+1 # if the bike exceeds the limit, the count is increased by one\n",
    "            cv2.line(img,(0,height-200),(width,height-200),(0,0,255),4) # if the count increases by one, the line will turn red\n",
    "            \n",
    "            \n",
    "        cv2.rectangle(img,(x,y),(x+w,y+h),(0,255,0),2) # drow a rectangle\n",
    "        cv2.putText(img,'Bike',(x,y-10),cv2.FONT_HERSHEY_SIMPLEX,0.5,(0,255,0),2) # a text is written on top of the rectangle\n",
    "        cv2.putText(img,str(count),(500,50),cv2.FONT_HERSHEY_SIMPLEX,1.5,(255,255,255),2) # a count is written in the red section        \n",
    "        \n",
    "    cv2.imshow('LIVE',img) # show image (video frames)\n",
    "    key = cv2.waitKey(1) # waiting for a key to be pressed\n",
    "    \n",
    "    # if the pressed key is the esc key, the video will break (ascii value)\n",
    "    if key==27:\n",
    "        break\n",
    "        \n",
    "cv2.destroyAllWindows() # destroy window\n",
    "camara.release() # release video source\n",
    "        "
   ]
  },
  {
   "cell_type": "code",
   "execution_count": null,
   "id": "7cf6479d",
   "metadata": {},
   "outputs": [],
   "source": []
  }
 ],
 "metadata": {
  "kernelspec": {
   "display_name": "Python 3 (ipykernel)",
   "language": "python",
   "name": "python3"
  },
  "language_info": {
   "codemirror_mode": {
    "name": "ipython",
    "version": 3
   },
   "file_extension": ".py",
   "mimetype": "text/x-python",
   "name": "python",
   "nbconvert_exporter": "python",
   "pygments_lexer": "ipython3",
   "version": "3.10.9"
  }
 },
 "nbformat": 4,
 "nbformat_minor": 5
}
